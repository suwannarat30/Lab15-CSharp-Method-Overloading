{
 "cells": [
  {
   "cell_type": "markdown",
   "metadata": {},
   "source": [
    "# Lab 15 Exercise 1"
   ]
  },
  {
   "cell_type": "markdown",
   "metadata": {},
   "source": [
    "## Method overloading"
   ]
  },
  {
   "cell_type": "markdown",
   "metadata": {},
   "source": [
    "1.สร้าง console application project\n",
    "\n",
    "```cmd\n",
    "dotnet new console --name Lab15_Ex01\n",
    "```"
   ]
  },
  {
   "cell_type": "markdown",
   "metadata": {},
   "source": [
    "2.เปลี่ยน code ให้เป็นดังต่อไปนี้\n",
    "\n",
    "```csharp\n",
    "using static System.Console;\n",
    "WriteLine(Calculator.AddValues(2, 3));\n",
    "WriteLine(Calculator.AddValues(2, 3, 4));\n",
    "WriteLine(Calculator.AddValues(2.5f, 3.7f));\n",
    "WriteLine(Calculator.AddValues(2L, 3L));\n",
    "\n",
    "public static class Calculator\n",
    "{\n",
    "    public static long AddValues(int a, int b)\n",
    "    {\n",
    "        WriteLine(\"Calculated by method: public static long AddValues(int a, int b)\");\n",
    "        return a + b;\n",
    "    }\n",
    "    public static long AddValues(int c, int d, int e)\n",
    "    {\n",
    "        WriteLine(\"Calculated by method: public static long AddValues(int c, int d, int e)\");\n",
    "        return c + d + e;\n",
    "    }\n",
    "    public static long AddValues(float f, float g)\n",
    "    {\n",
    "        WriteLine(\"Calculated by method: public static long AddValues(float f, float g)\");\n",
    "        return (long) (f + g);\n",
    "    }\n",
    "   public static long AddValues(long h, long i)\n",
    "    {\n",
    "        WriteLine(\"Calculated by method: public static long AddValues(long h, long i)\");\n",
    "        return (long) (h + i);\n",
    "    }\n",
    "}\n",
    "```"
   ]
  },
  {
   "cell_type": "markdown",
   "metadata": {},
   "source": [
    "3.Build project โดยการใช้คำสั่ง\n",
    "\n",
    "```cmd\n",
    "dotnet build  Lab15_Ex01\n",
    "```\n",
    "\n",
    "ถ้ามีที่ผิดพลาดในโปรแกรม ให้แก้ไขให้ถูกต้อง"
   ]
  },
  {
   "cell_type": "markdown",
   "metadata": {},
   "source": [
    "4.บันทึกผลที่ได้จากการรันคำสั่งในข้อ 3"
   ]
  },
  {
   "cell_type": "markdown",
   "metadata": {},
   "source": [
    "Build succeeded in 5.3s"
   ]
  },
  {
   "cell_type": "markdown",
   "metadata": {},
   "source": [
    "5.Run project โดยการใช้คำสั่ง\n",
    "```cmd\n",
    "dotnet run --project Lab15_Ex01\n",
    "```\n",
    "\n"
   ]
  },
  {
   "cell_type": "markdown",
   "metadata": {},
   "source": [
    "6.บันทึกผลที่ได้จากการรันคำสั่งในข้อ 5"
   ]
  },
  {
   "cell_type": "markdown",
   "metadata": {},
   "source": [
    "Calculated by method: public static long AddValues(int a, int b)\n",
    "5\n",
    "\n",
    "Calculated by method: public static long AddValues(int c, int d, int e)\n",
    "9\n",
    "\n",
    "Calculated by method: public static long AddValues(float f, float g)\n",
    "6\n",
    "\n",
    "Calculated by method: public static long AddValues(long h, long i)\n",
    "5"
   ]
  },
  {
   "cell_type": "markdown",
   "metadata": {},
   "source": [
    "7.อธิบายสิ่งที่พบในการทดลอง"
   ]
  },
  {
   "cell_type": "markdown",
   "metadata": {},
   "source": [
    "โค้ดมีข้อผิดพลาดบางประการเกี่ยวกับการใช้ method overloading และชนิดข้อมูลที่ไม่ตรงกัน"
   ]
  }
 ],
 "metadata": {
  "kernelspec": {
   "display_name": ".NET (C#)",
   "language": "C#",
   "name": ".net-csharp"
  },
  "polyglot_notebook": {
   "kernelInfo": {
    "defaultKernelName": "csharp",
    "items": [
     {
      "aliases": [],
      "languageName": "csharp",
      "name": "csharp"
     }
    ]
   }
  }
 },
 "nbformat": 4,
 "nbformat_minor": 2
}
